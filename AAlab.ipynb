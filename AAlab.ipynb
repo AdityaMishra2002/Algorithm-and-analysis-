{
  "nbformat": 4,
  "nbformat_minor": 0,
  "metadata": {
    "colab": {
      "provenance": [],
      "authorship_tag": "ABX9TyOtirMTCV2N+pl9aIK/3cJB",
      "include_colab_link": true
    },
    "kernelspec": {
      "name": "python3",
      "display_name": "Python 3"
    },
    "language_info": {
      "name": "python"
    }
  },
  "cells": [
    {
      "cell_type": "markdown",
      "metadata": {
        "id": "view-in-github",
        "colab_type": "text"
      },
      "source": [
        "<a href=\"https://colab.research.google.com/github/AdityaMishra2002/Algorithm-and-analysis-/blob/main/AAlab.ipynb\" target=\"_parent\"><img src=\"https://colab.research.google.com/assets/colab-badge.svg\" alt=\"Open In Colab\"/></a>"
      ]
    },
    {
      "cell_type": "code",
      "source": [
        "\n",
        "def quick_sort(arr):\n",
        "    if len(arr) < 2:\n",
        "        return arr\n",
        "    else:\n",
        "        pivot = arr[0]\n",
        "        less = [i for i in arr[1:] if i <= pivot]\n",
        "        greater = [i for i in arr[1:] if i > pivot]\n",
        "        return quick_sort(less) + [pivot] + quick_sort(greater)"
      ],
      "metadata": {
        "id": "HUShmqvJfH00"
      },
      "execution_count": null,
      "outputs": []
    },
    {
      "cell_type": "code",
      "source": [
        "# prompt: bubble sort\n",
        "\n",
        "def bubble_sort(arr):\n",
        "    n = len(arr)\n",
        "    for i in range(n):\n",
        "        for j in range(0, n-i-1):\n",
        "            if arr[j] > arr[j+1]:\n",
        "                arr[j], arr[j+1] = arr[j+1], arr[j]\n",
        "    return arr"
      ],
      "metadata": {
        "id": "9s7QsN_7fLjz"
      },
      "execution_count": null,
      "outputs": []
    },
    {
      "cell_type": "code",
      "source": [
        "# prompt: merge sort\n",
        "\n",
        "def quick_sort(arr):\n",
        "    if len(arr) < 2:\n",
        "        return arr\n",
        "    else:\n",
        "        pivot = arr[0]\n",
        "        less = [i for i in arr[1:] if i <= pivot]\n",
        "        greater = [i for i in arr[1:] if i > pivot]\n",
        "        return quick_sort(less) + [pivot] + quick_sort(greater)\n",
        "\n",
        "\n",
        "def bubble_sort(arr):\n",
        "    n = len(arr)\n",
        "    for i in range(n):\n",
        "        for j in range(0, n-i-1):\n",
        "            if arr[j] > arr[j+1]:\n",
        "                arr[j], arr[j+1] = arr[j+1], arr[j]\n",
        "    return arr\n",
        "\n",
        "def merge_sort(arr):\n",
        "    if len(arr) > 1:\n",
        "        mid = len(arr) // 2\n",
        "        left_half = arr[:mid]\n",
        "        right_half = arr[mid:]\n",
        "\n",
        "        merge_sort(left_half)\n",
        "        merge_sort(right_half)\n",
        "\n",
        "        i = j = k = 0\n",
        "        while i < len(left_half) and j < len(right_half):\n",
        "            if left_half[i] < right_half[j]:\n",
        "                arr[k] = left_half[i]\n",
        "                i += 1\n",
        "            else:\n",
        "                arr[k] = right_half[j]\n",
        "                j += 1\n",
        "            k += 1\n",
        "\n",
        "        while i < len(left_half):\n",
        "            arr[k] = left_half[i]\n",
        "            i += 1\n",
        "            k += 1\n",
        "\n",
        "        while j < len(right_half):\n",
        "            arr[k] = right_half[j]\n",
        "            j += 1\n",
        "            k += 1\n",
        "    return arr"
      ],
      "metadata": {
        "id": "_vmalF0ffPRC"
      },
      "execution_count": 13,
      "outputs": []
    },
    {
      "cell_type": "code",
      "source": [
        "\n",
        "def insertion_sort(arr):\n",
        "    for i in range(1, len(arr)):\n",
        "        key = arr[i]\n",
        "        j = i - 1\n",
        "        while j >= 0 and key < arr[j]:\n",
        "            arr[j + 1] = arr[j]\n",
        "            j -= 1\n",
        "        arr[j + 1] = key\n",
        "    return arr"
      ],
      "metadata": {
        "id": "EtESk7j_eGzF"
      },
      "execution_count": 4,
      "outputs": []
    },
    {
      "cell_type": "code",
      "source": [
        "def selection_sort(arr):\n",
        "    n = len(arr)\n",
        "    for i in range(n):\n",
        "        min_idx = i\n",
        "        for j in range(i + 1, n):\n",
        "            if arr[j] < arr[min_idx]:\n",
        "                min_idx = j\n",
        "        arr[i], arr[min_idx] = arr[min_idx], arr[i]\n",
        "    return arr"
      ],
      "metadata": {
        "id": "5X-aoJSAdpEN"
      },
      "execution_count": 5,
      "outputs": []
    },
    {
      "cell_type": "code",
      "source": [
        "# prompt: bfs\n",
        "\n",
        "from collections import deque\n",
        "\n",
        "def bfs(graph, start):\n",
        "    visited = set()\n",
        "    queue = deque([start])\n",
        "    visited.add(start)\n",
        "    while queue:\n",
        "        vertex = queue.popleft()\n",
        "        print(vertex, end=\" \")  # Process the current vertex\n",
        "        for neighbor in graph[vertex]:\n",
        "            if neighbor not in visited:\n",
        "                visited.add(neighbor)\n",
        "                queue.append(neighbor)"
      ],
      "metadata": {
        "id": "l91vwBMxdpLb"
      },
      "execution_count": 6,
      "outputs": []
    },
    {
      "cell_type": "code",
      "source": [
        "# prompt: dfs\n",
        "\n",
        "from collections import deque\n",
        "\n",
        "def dfs(graph, start, visited=None):\n",
        "    if visited is None:\n",
        "        visited = set()\n",
        "    visited.add(start)\n",
        "    print(start, end=\" \")\n",
        "    for neighbor in graph[start]:\n",
        "        if neighbor not in visited:\n",
        "            dfs(graph, neighbor, visited)"
      ],
      "metadata": {
        "id": "1fbjAuDIdpQa"
      },
      "execution_count": 7,
      "outputs": []
    },
    {
      "cell_type": "code",
      "source": [
        "# prompt: dijkstras\n",
        "\n",
        "import sys\n",
        "\n",
        "def dijkstra(graph, start):\n",
        "    distances = {node: sys.maxsize for node in graph}\n",
        "    distances[start] = 0\n",
        "    visited = set()\n",
        "    unvisited = set(graph)\n",
        "\n",
        "    while unvisited:\n",
        "        min_node = None\n",
        "        for node in unvisited:\n",
        "            if node in distances and (min_node is None or distances[node] < distances[min_node]):\n",
        "                min_node = node\n",
        "\n",
        "        if min_node is None:\n",
        "            break  # No reachable nodes left\n",
        "\n",
        "        visited.add(min_node)\n",
        "        unvisited.remove(min_node)\n",
        "\n",
        "        for neighbor, weight in graph[min_node].items():\n",
        "            new_distance = distances[min_node] + weight\n",
        "            if new_distance < distances[neighbor]:\n",
        "                distances[neighbor] = new_distance\n",
        "\n",
        "    return distances"
      ],
      "metadata": {
        "id": "WGRVBww6dpWT"
      },
      "execution_count": 8,
      "outputs": []
    },
    {
      "cell_type": "code",
      "source": [
        "# prompt: prims\n",
        "\n",
        "def prims(graph, start):\n",
        "    num_vertices = len(graph)\n",
        "    visited = [False] * num_vertices\n",
        "    min_spanning_tree = []\n",
        "    key = [float('inf')] * num_vertices\n",
        "    key[start] = 0\n",
        "    parent = [None] * num_vertices\n",
        "\n",
        "    for _ in range(num_vertices):\n",
        "        min_key = float('inf')\n",
        "        min_index = -1\n",
        "        for v in range(num_vertices):\n",
        "            if not visited[v] and key[v] < min_key:\n",
        "                min_key = key[v]\n",
        "                min_index = v\n",
        "\n",
        "        if min_index == -1:\n",
        "            break\n",
        "\n",
        "        visited[min_index] = True\n",
        "        if parent[min_index] is not None:\n",
        "            min_spanning_tree.append((parent[min_index], min_index, key[min_index]))\n",
        "\n",
        "        for v in range(num_vertices):\n",
        "            if (\n",
        "                graph[min_index][v] > 0\n",
        "                and not visited[v]\n",
        "                and graph[min_index][v] < key[v]\n",
        "            ):\n",
        "                parent[v] = min_index\n",
        "                key[v] = graph[min_index][v]\n",
        "\n",
        "    return min_spanning_tree"
      ],
      "metadata": {
        "id": "F8reM0bfFIwG"
      },
      "execution_count": 9,
      "outputs": []
    },
    {
      "cell_type": "code",
      "source": [
        "# prompt: Floyd warshall\n",
        "\n",
        "def floyd_warshall(graph):\n",
        "\n",
        "\n",
        "  dist = {}\n",
        "  for u in graph:\n",
        "    for v in graph:\n",
        "      if u == v:\n",
        "        dist[(u, v)] = 0\n",
        "      elif v in graph[u]:\n",
        "        dist[(u, v)] = graph[u][v]\n",
        "      else:\n",
        "        dist[(u, v)] = float('inf')\n",
        "\n",
        "  for k in graph:\n",
        "    for i in graph:\n",
        "      for j in graph:\n",
        "        dist[(i, j)] = min(dist[(i, j)], dist[(i, k)] + dist[(k, j)])\n",
        "\n",
        "  return dist\n",
        "\n",
        "\n",
        "# Example usage:\n",
        "graph = {\n",
        "    'A': {'B': 10, 'C': 15, 'D': 20},\n",
        "    'B': {'A': 10, 'C': 35, 'D': 25},\n",
        "    'C': {'A': 15, 'B': 35, 'D': 30},\n",
        "    'D': {'A': 20, 'B': 25, 'C': 30},\n",
        "}\n",
        "\n",
        "shortest_paths = floyd_warshall(graph)\n",
        "\n",
        "print(\"Shortest paths between all pairs of vertices:\")\n",
        "for (u, v), distance in shortest_paths.items():\n",
        "  print(f\"({u}, {v}): {distance}\")"
      ],
      "metadata": {
        "colab": {
          "base_uri": "https://localhost:8080/"
        },
        "id": "KSyuZKAULURc",
        "outputId": "b6892eac-1cd0-4d26-c306-f53b0426fc6a"
      },
      "execution_count": 10,
      "outputs": [
        {
          "output_type": "stream",
          "name": "stdout",
          "text": [
            "Shortest paths between all pairs of vertices:\n",
            "(A, A): 0\n",
            "(A, B): 10\n",
            "(A, C): 15\n",
            "(A, D): 20\n",
            "(B, A): 10\n",
            "(B, B): 0\n",
            "(B, C): 25\n",
            "(B, D): 25\n",
            "(C, A): 15\n",
            "(C, B): 25\n",
            "(C, C): 0\n",
            "(C, D): 30\n",
            "(D, A): 20\n",
            "(D, B): 25\n",
            "(D, C): 30\n",
            "(D, D): 0\n"
          ]
        }
      ]
    },
    {
      "cell_type": "code",
      "source": [
        "\n",
        "\n",
        "def strassen_matrix_multiplication(A, B):\n",
        "\n",
        "\n",
        "  n = len(A)\n",
        "\n",
        "  # Base case: If the matrices are small enough, use standard multiplication\n",
        "  if n <= 64:  # Adjust the threshold as needed\n",
        "    return [[sum(A[i][k] * B[k][j] for k in range(n)) for j in range(n)] for i in range(n)]\n",
        "\n",
        "  # Divide the matrices into quadrants\n",
        "  mid = n // 2\n",
        "  A11 = [row[:mid] for row in A[:mid]]\n",
        "  A12 = [row[mid:] for row in A[:mid]]\n",
        "  A21 = [row[:mid] for row in A[mid:]]\n",
        "  A22 = [row[mid:] for row in A[mid:]]\n",
        "\n",
        "  B11 = [row[:mid] for row in B[:mid]]\n",
        "  B12 = [row[mid:] for row in B[:mid]]\n",
        "  B21 = [row[:mid] for row in B[mid:]]\n",
        "  B22 = [row[mid:] for row in B[mid:]]\n",
        "\n",
        "  # Recursive calls to compute the seven products\n",
        "  P1 = strassen_matrix_multiplication(add_matrices(A11, A22), add_matrices(B11, B22))\n",
        "  P2 = strassen_matrix_multiplication(add_matrices(A21, A22), B11)\n",
        "  P3 = strassen_matrix_multiplication(A11, subtract_matrices(B12, B22))\n",
        "  P4 = strassen_matrix_multiplication(A22, subtract_matrices(B21, B11))\n",
        "  P5 = strassen_matrix_multiplication(add_matrices(A11, A12), B22)\n",
        "  P6 = strassen_matrix_multiplication(subtract_matrices(A21, A11), add_matrices(B11, B12))\n",
        "  P7 = strassen_matrix_multiplication(subtract_matrices(A12, A22), add_matrices(B21, B22))\n",
        "\n",
        "  # Compute the quadrants of the resulting matrix\n",
        "  C11 = add_matrices(subtract_matrices(add_matrices(P1, P4), P5), P7)\n",
        "  C12 = add_matrices(P3, P5)\n",
        "  C21 = add_matrices(P2, P4)\n",
        "  C22 = add_matrices(subtract_matrices(add_matrices(P1, P3), P2), P6)\n",
        "\n",
        "  # Combine the quadrants to form the final matrix\n",
        "  result = [[0] * n for _ in range(n)]\n",
        "  for i in range(mid):\n",
        "    for j in range(mid):\n",
        "      result[i][j] = C11[i][j]\n",
        "      result[i][j + mid] = C12[i][j]\n",
        "      result[i + mid][j] = C21[i][j]\n",
        "      result[i + mid][j + mid] = C22[i][j]\n",
        "\n",
        "  return result\n",
        "\n",
        "\n",
        "def add_matrices(A, B):\n",
        "  \"\"\"Adds two matrices.\"\"\"\n",
        "  return [[A[i][j] + B[i][j] for j in range(len(A[0]))] for i in range(len(A))]\n",
        "\n",
        "\n",
        "def subtract_matrices(A, B):\n",
        "  \"\"\"Subtracts two matrices.\"\"\"\n",
        "  return [[A[i][j] - B[i][j] for j in range(len(A[0]))] for i in range(len(A))]\n",
        "\n",
        "\n",
        "# Example usage:\n",
        "A = [[1, 2, 3], [4,5, 6], [9,7,8]]\n",
        "B = [[6,1,1], [4,9,2], [3,10,6]]\n",
        "\n",
        "C = strassen_matrix_multiplication(A, B)\n",
        "print(\"Result of Strassen's matrix multiplication:\")\n",
        "for row in C:\n",
        "    print(row)"
      ],
      "metadata": {
        "colab": {
          "base_uri": "https://localhost:8080/"
        },
        "id": "xQHpfgY2MP8b",
        "outputId": "1a21b55f-81f5-48dc-95f0-22ee1eae8e9a"
      },
      "execution_count": 11,
      "outputs": [
        {
          "output_type": "stream",
          "name": "stdout",
          "text": [
            "Result of Strassen's matrix multiplication:\n",
            "[23, 49, 23]\n",
            "[62, 109, 50]\n",
            "[106, 152, 71]\n"
          ]
        }
      ]
    },
    {
      "cell_type": "code",
      "source": [
        "# prompt: kruskal\n",
        "\n",
        "import sys\n",
        "\n",
        "def find_set(parent, i):\n",
        "    if parent[i] == i:\n",
        "        return i\n",
        "    return find_set(parent, parent[i])\n",
        "\n",
        "def union_sets(parent, rank, i, j):\n",
        "    i_id = find_set(parent, i)\n",
        "    j_id = find_set(parent, j)\n",
        "    if i_id != j_id:\n",
        "        if rank[i_id] > rank[j_id]:\n",
        "            parent[j_id] = i_id\n",
        "        else:\n",
        "            parent[i_id] = j_id\n",
        "            if rank[i_id] == rank[j_id]:\n",
        "                rank[j_id] += 1\n",
        "        return True\n",
        "    return False\n",
        "\n",
        "def kruskal(graph):\n",
        "    num_vertices = len(graph['vertices'])\n",
        "    edges = []\n",
        "    for u in graph['vertices']:\n",
        "      for v, weight in graph['edges'][u]:\n",
        "        edges.append((u,v,weight))\n",
        "    edges = sorted(edges, key=lambda item: item[2]) # Sort by weight\n",
        "\n",
        "    parent = {vertex: vertex for vertex in graph['vertices']}\n",
        "    rank = {vertex: 0 for vertex in graph['vertices']}\n",
        "    min_spanning_tree = []\n",
        "    total_weight = 0\n",
        "\n",
        "    for u, v, weight in edges:\n",
        "      if union_sets(parent, rank, u, v):\n",
        "        min_spanning_tree.append((u, v, weight))\n",
        "        total_weight += weight\n",
        "\n",
        "    return min_spanning_tree, total_weight\n",
        "\n",
        "# Example graph represented as an adjacency list with weights\n",
        "example_graph = {\n",
        "    'vertices': ['A', 'B', 'C', 'D', 'E'],\n",
        "    'edges': {\n",
        "        'A': [('B', 4), ('C', 1)],\n",
        "        'B': [('A', 4), ('C', 2), ('D', 5)],\n",
        "        'C': [('A', 1), ('B', 2), ('D', 8), ('E', 10)],\n",
        "        'D': [('B', 5), ('C', 8), ('E', 2)],\n",
        "        'E': [('C', 10), ('D', 2)]\n",
        "    }\n",
        "}\n",
        "\n",
        "min_spanning_tree, total_weight = kruskal(example_graph)\n",
        "print(\"Minimum Spanning Tree:\")\n",
        "for u, v, weight in min_spanning_tree:\n",
        "    print(f\"Edge: {u} - {v}, Weight: {weight}\")\n",
        "print(f\"Total weight of MST: {total_weight}\")"
      ],
      "metadata": {
        "colab": {
          "base_uri": "https://localhost:8080/"
        },
        "id": "pkFrc1Ufe1bz",
        "outputId": "ef5d1800-c06a-4bc3-ca8f-37ef5a444e41"
      },
      "execution_count": 12,
      "outputs": [
        {
          "output_type": "stream",
          "name": "stdout",
          "text": [
            "Minimum Spanning Tree:\n",
            "Edge: A - C, Weight: 1\n",
            "Edge: B - C, Weight: 2\n",
            "Edge: D - E, Weight: 2\n",
            "Edge: B - D, Weight: 5\n",
            "Total weight of MST: 10\n"
          ]
        }
      ]
    },
    {
      "cell_type": "code",
      "source": [
        "# prompt: hopcroft\n",
        "\n",
        "def hopcroft_karp(graph):\n",
        "\n",
        "    matching = {}\n",
        "    while True:\n",
        "        queue = deque()\n",
        "        distances = {}\n",
        "\n",
        "        for u in graph:\n",
        "            if u not in matching:\n",
        "                distances[u] = 0\n",
        "                queue.append(u)\n",
        "            else:\n",
        "                distances[u] = float('inf')\n",
        "\n",
        "        distances[None] = float('inf')  # Sentinel for unmatched nodes in right set\n",
        "\n",
        "        while queue:\n",
        "            u = queue.popleft()\n",
        "            if distances[u] < distances[None]:  # Optimizing the search for shortest augmenting path\n",
        "                for v in graph[u]:\n",
        "                    if distances[matching.get(v, None)] == float('inf'):\n",
        "                        distances[matching.get(v, None)] = distances[u] + 1\n",
        "                        queue.append(matching.get(v, None))\n",
        "\n",
        "        if distances[None] == float('inf'):  # No augmenting path found\n",
        "            break\n",
        "\n",
        "        def dfs(u):\n",
        "            if u is not None:\n",
        "                for v in graph[u]:\n",
        "                    if distances[matching.get(v, None)] == distances[u] + 1:\n",
        "                        if dfs(matching.get(v, None)):\n",
        "                            matching[v] = u\n",
        "                            matching[u] = v # Ensure symmetry in matching\n",
        "                            return True\n",
        "                distances[u] = float('inf')\n",
        "                return False\n",
        "            return True\n",
        "\n",
        "        for u in graph:\n",
        "            if u not in matching and dfs(u):\n",
        "                pass\n",
        "\n",
        "    return matching\n",
        "\n",
        "\n",
        "bipartite_graph = {\n",
        "    0: [0, 1],\n",
        "    1: [2],\n",
        "    2: [0, 1]\n",
        "}\n",
        "\n",
        "\n",
        "max_matching = hopcroft_karp(bipartite_graph)\n",
        "print(\"Maximum matching:\", max_matching)"
      ],
      "metadata": {
        "colab": {
          "base_uri": "https://localhost:8080/"
        },
        "id": "n2WfeXvje1Yc",
        "outputId": "5c5a8a72-c78e-42dd-9792-73c99f844131"
      },
      "execution_count": 14,
      "outputs": [
        {
          "output_type": "stream",
          "name": "stdout",
          "text": [
            "Maximum matching: {0: 0, 2: 1, 1: 2}\n"
          ]
        }
      ]
    }
  ]
}